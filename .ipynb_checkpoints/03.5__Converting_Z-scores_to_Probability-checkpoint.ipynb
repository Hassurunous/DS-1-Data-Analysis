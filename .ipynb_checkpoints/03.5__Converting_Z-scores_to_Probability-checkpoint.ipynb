{
 "cells": [
  {
   "cell_type": "markdown",
   "metadata": {},
   "source": [
    "<center><img src='img/ms_logo.jpeg' height=40% width=40%></center>\n",
    "\n",
    "<center><h1>Z-Scores and Probability: Practice Problems</h1></center>\n",
    "\n",
    "This notebook is designed as a way to practice answering questions of probability using the Z scores and the Standard Normal Distribution.  \n",
    "\n",
    "Try to answer the three following questions:\n",
    "\n",
    "\n",
    "**1.**  The average height of students at Make School is 5'7\", with a standard deviation of 2.5 inches.  What percentage of Make School students are between 5'5\" and 6' tall?\n",
    "<br>\n",
    "<br>\n",
    "**2.**  The average startup in San Francisco raises 1.5 million dollars with a standard deviation of 400,000 dollars.  Your boss wants to raise a 3 million dollar seed round.  Based only on how other startups have done, what are the odds (percentage chance) that he will be successful?\n",
    "<br>\n",
    "<br>\n",
    "**3.**  You've decided to track the number of jokes Alan makes at Mike's expense during a given class period.  Alan averages 2.5 jokes about Mike per class, with a standard deviation of .7 jokes.  Mike has had a rough day, and will probably start crying if Alan makes more than 2 jokes about him today.  What is the percentage chance that Mike will NOT break down crying in class today?\n",
    "\n",
    "**NOTE:** To solve these questions, you can use a lookup-table for the Z-score, or just use the stats package inside of scipy.  \n",
    "\n",
    "To compute the cumulative area to the **left** of a Z-score, use the cumulative density function.\n",
    "<br>\n",
    "<center>`st.norm.cdf(z-score)`</center>\n",
    "<br>\n",
    "\n",
    "To compute the cumulative area to the **right** of a Z-score, use the survival function.\n",
    "<br>\n",
    "<center>`st.norm.sf(z-score)`</center>\n",
    "<br>\n",
    "\n",
    "Recall that to calculate a Z-score for a particular point, you need to **_normalize_** it by subtracting the mean from that point, and then dividing that number by the standard deviation.  "
   ]
  },
  {
   "cell_type": "code",
   "execution_count": 2,
   "metadata": {},
   "outputs": [
    {
     "name": "stdout",
     "output_type": "stream",
     "text": [
      "Area to the left: 0.9494974165258963\n",
      "Area to the right: 0.05050258347410371\n",
      "total area under curve: 1.0\n"
     ]
    }
   ],
   "source": [
    "import scipy.stats as st\n",
    "# Example use:\n",
    "# A Z-score of ~1.64 == ~95% to the left, ~5% to the right\n",
    "left_tail = st.norm.cdf(1.64)\n",
    "right_tail = st.norm.sf(1.64)\n",
    "\n",
    "\n",
    "print(\"Area to the left: {}\".format(left_tail))\n",
    "print(\"Area to the right: {}\".format(right_tail))\n",
    "print(\"total area under curve: {}\".format(left_tail + right_tail))"
   ]
  },
  {
   "cell_type": "code",
   "execution_count": 22,
   "metadata": {},
   "outputs": [
    {
     "name": "stdout",
     "output_type": "stream",
     "text": [
      "Percentage between 5'5\" and 6'0\" (z-scores): 0.977249868052  -  0.211855398583\n",
      "25.1887119273\n",
      "Percentage chance of raising $$3mil (z-score):  0.999911582715\n",
      "15.867671462099997\n",
      "Percentage chance of Mike crying (z-score):  0.237525262027\n",
      "40.612463647\n"
     ]
    }
   ],
   "source": [
    "# Now, write some code to find the answers to the questions listed above! \n",
    "def z_score(raw_value, mean, standard_deviation):\n",
    "        return (raw_value - mean) / standard_deviation\n",
    "    \n",
    "ms_5_5_z = z_score(65, 67, 2.5)\n",
    "ms_6_0_z = z_score(72, 67, 2.5)\n",
    "\n",
    "print(\"Percentage between 5'5\\\" and 6'0\\\" (z-scores):\", st.norm.cdf(ms_6_0_z) , \" - \", st.norm.cdf(ms_5_5_z))\n",
    "print ((0.835777187388 - 0.583890068115) * 100)\n",
    "\n",
    "startup_z = z_score(3000000, 1500000, 400000)\n",
    "\n",
    "print(\"Percentage chance of raising $$3mil (z-score): \", st.norm.cdf(startup_z))\n",
    "print ((1.0 - 0.841323285379) * 100)\n",
    "\n",
    "jokes_z = z_score(2, 2.5, 0.7)\n",
    "\n",
    "print(\"Percentage chance of Mike crying (z-score): \", st.norm.cdf(jokes_z))\n",
    "print((1.0 - 0.59387536353) * 100)\n"
   ]
  },
  {
   "cell_type": "markdown",
   "metadata": {},
   "source": [
    "Answer 1: 25.19%\n",
    "\n",
    "\n",
    "\n",
    "Answer 2: 15.87%\n",
    "\n",
    "\n",
    "\n",
    "Answer 3: 40.61%\n",
    "\n",
    "\n"
   ]
  }
 ],
 "metadata": {
  "kernelspec": {
   "display_name": "Python 3",
   "language": "python",
   "name": "python3"
  },
  "language_info": {
   "codemirror_mode": {
    "name": "ipython",
    "version": 3
   },
   "file_extension": ".py",
   "mimetype": "text/x-python",
   "name": "python",
   "nbconvert_exporter": "python",
   "pygments_lexer": "ipython3",
   "version": "3.6.3"
  }
 },
 "nbformat": 4,
 "nbformat_minor": 2
}
